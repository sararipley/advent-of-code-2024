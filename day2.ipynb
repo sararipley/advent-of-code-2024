{
 "cells": [
  {
   "cell_type": "code",
   "execution_count": 1,
   "metadata": {},
   "outputs": [],
   "source": [
    "import numpy as np\n",
    "import pandas as pd"
   ]
  },
  {
   "cell_type": "code",
   "execution_count": 17,
   "metadata": {},
   "outputs": [
    {
     "name": "stdout",
     "output_type": "stream",
     "text": [
      "           66 67 68 71 72 69\n",
      "0             72 75 78 79 79\n",
      "1    38 40 41 42 44 47 48 52\n",
      "2             86 87 88 91 96\n",
      "3    30 33 34 36 39 36 38 40\n",
      "4          77 78 79 80 79 76\n",
      "..                       ...\n",
      "994           38 39 42 43 44\n",
      "995           48 46 45 43 42\n",
      "996  95 92 91 88 86 84 83 80\n",
      "997           48 51 52 55 58\n",
      "998        40 42 44 46 49 51\n",
      "\n",
      "[999 rows x 1 columns]\n"
     ]
    }
   ],
   "source": [
    "input = pd.read_csv('/Users/sararipley/development/advent_of_code/day2_input')\n",
    "print(input)\n",
    "\n"
   ]
  }
 ],
 "metadata": {
  "kernelspec": {
   "display_name": "advent_venv",
   "language": "python",
   "name": "python3"
  },
  "language_info": {
   "codemirror_mode": {
    "name": "ipython",
    "version": 3
   },
   "file_extension": ".py",
   "mimetype": "text/x-python",
   "name": "python",
   "nbconvert_exporter": "python",
   "pygments_lexer": "ipython3",
   "version": "3.12.1"
  }
 },
 "nbformat": 4,
 "nbformat_minor": 2
}
